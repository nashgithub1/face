{
 "cells": [
  {
   "cell_type": "code",
   "execution_count": 1,
   "id": "5b93e3c9",
   "metadata": {},
   "outputs": [
    {
     "name": "stdout",
     "output_type": "stream",
     "text": [
      "Renaming complete.\n"
     ]
    }
   ],
   "source": [
    "import os\n",
    "\n",
    "folder_path = \"naathi\"\n",
    "prefix = \"naathi\"\n",
    "\n",
    "# Get all image files and sort for consistency\n",
    "image_files = sorted([\n",
    "    f for f in os.listdir(folder_path)\n",
    "    if f.lower().endswith(('.jpg', '.jpeg', '.png'))\n",
    "])\n",
    "\n",
    "for i, filename in enumerate(image_files, start=1):\n",
    "    ext = os.path.splitext(filename)[1]\n",
    "    new_name = f\"{prefix}_{i:03}{ext}\"\n",
    "    src = os.path.join(folder_path, filename)\n",
    "    dst = os.path.join(folder_path, new_name)\n",
    "    os.rename(src, dst)\n",
    "\n",
    "print(\"Renaming complete.\")\n"
   ]
  },
  {
   "cell_type": "code",
   "execution_count": 2,
   "id": "b0473436",
   "metadata": {},
   "outputs": [
    {
     "name": "stdout",
     "output_type": "stream",
     "text": [
      "Renaming complete.\n"
     ]
    }
   ],
   "source": [
    "import os\n",
    "\n",
    "folder_path = \"nazeef\"\n",
    "prefix = \"nazeef\"\n",
    "\n",
    "# Get all image files and sort for consistency\n",
    "image_files = sorted([\n",
    "    f for f in os.listdir(folder_path)\n",
    "    if f.lower().endswith(('.jpg', '.jpeg', '.png'))\n",
    "])\n",
    "\n",
    "for i, filename in enumerate(image_files, start=1):\n",
    "    ext = os.path.splitext(filename)[1]\n",
    "    new_name = f\"{prefix}_{i:03}{ext}\"\n",
    "    src = os.path.join(folder_path, filename)\n",
    "    dst = os.path.join(folder_path, new_name)\n",
    "    os.rename(src, dst)\n",
    "\n",
    "print(\"Renaming complete.\")\n"
   ]
  },
  {
   "cell_type": "code",
   "execution_count": 3,
   "id": "5279f4b2",
   "metadata": {},
   "outputs": [
    {
     "name": "stdout",
     "output_type": "stream",
     "text": [
      "Renaming complete.\n"
     ]
    }
   ],
   "source": [
    "import os\n",
    "\n",
    "folder_path = \"riznee\"\n",
    "prefix = \"riznee\"\n",
    "\n",
    "# Get all image files and sort for consistency\n",
    "image_files = sorted([\n",
    "    f for f in os.listdir(folder_path)\n",
    "    if f.lower().endswith(('.jpg', '.jpeg', '.png'))\n",
    "])\n",
    "\n",
    "for i, filename in enumerate(image_files, start=1):\n",
    "    ext = os.path.splitext(filename)[1]\n",
    "    new_name = f\"{prefix}_{i:03}{ext}\"\n",
    "    src = os.path.join(folder_path, filename)\n",
    "    dst = os.path.join(folder_path, new_name)\n",
    "    os.rename(src, dst)\n",
    "\n",
    "print(\"Renaming complete.\")\n"
   ]
  },
  {
   "cell_type": "code",
   "execution_count": 4,
   "id": "8b0c651d",
   "metadata": {},
   "outputs": [
    {
     "name": "stdout",
     "output_type": "stream",
     "text": [
      "Renaming complete.\n"
     ]
    }
   ],
   "source": [
    "import os\n",
    "\n",
    "folder_path = \"unmatched\"\n",
    "prefix = \"unmatched\"\n",
    "\n",
    "# Get all image files and sort for consistency\n",
    "image_files = sorted([\n",
    "    f for f in os.listdir(folder_path)\n",
    "    if f.lower().endswith(('.jpg', '.jpeg', '.png'))\n",
    "])\n",
    "\n",
    "for i, filename in enumerate(image_files, start=1):\n",
    "    ext = os.path.splitext(filename)[1]\n",
    "    new_name = f\"{prefix}_{i:03}{ext}\"\n",
    "    src = os.path.join(folder_path, filename)\n",
    "    dst = os.path.join(folder_path, new_name)\n",
    "    os.rename(src, dst)\n",
    "\n",
    "print(\"Renaming complete.\")\n"
   ]
  },
  {
   "cell_type": "code",
   "execution_count": null,
   "id": "386dfc4d",
   "metadata": {},
   "outputs": [],
   "source": []
  }
 ],
 "metadata": {
  "kernelspec": {
   "display_name": "Python 3 (ipykernel)",
   "language": "python",
   "name": "python3"
  },
  "language_info": {
   "codemirror_mode": {
    "name": "ipython",
    "version": 3
   },
   "file_extension": ".py",
   "mimetype": "text/x-python",
   "name": "python",
   "nbconvert_exporter": "python",
   "pygments_lexer": "ipython3",
   "version": "3.11.7"
  }
 },
 "nbformat": 4,
 "nbformat_minor": 5
}
