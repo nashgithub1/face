{
 "cells": [
  {
   "cell_type": "code",
   "execution_count": 10,
   "id": "a4fab20d",
   "metadata": {},
   "outputs": [],
   "source": [
    "import tensorflow as tf\n",
    "from tensorflow.keras.models import Sequential\n",
    "from tensorflow.keras.layers import Conv2D, MaxPooling2D, Flatten, Dense, Dropout\n",
    "from tensorflow.keras.preprocessing.image import ImageDataGenerator\n",
    "from tensorflow.keras.callbacks import EarlyStopping\n",
    "import numpy as np\n",
    "import os"
   ]
  },
  {
   "cell_type": "code",
   "execution_count": 11,
   "id": "54e29fb0",
   "metadata": {},
   "outputs": [],
   "source": [
    "# Define paths and parameters\n",
    "data_dir = \"/Users/mohamednashath/Desktop/projectface/datadir\"  # Folder with subfolders: naathi, nazeef, riznee, unmatched\n",
    "img_size = (224, 224)\n",
    "batch_size = 16\n",
    "num_classes = 4  # naathi, nazeef, riznee, unmatched\n",
    "epochs = 30\n"
   ]
  },
  {
   "cell_type": "code",
   "execution_count": 12,
   "id": "66f1144a-d4dd-4c87-a1e6-90867aa82130",
   "metadata": {},
   "outputs": [],
   "source": [
    "# Data augmentation and preprocessing\n",
    "train_datagen = ImageDataGenerator(\n",
    "    rescale=1./255,\n",
    "    rotation_range=10,\n",
    "    zoom_range=0.1,\n",
    "    horizontal_flip=True,\n",
    "    brightness_range=[0.8, 1.2],\n",
    "    validation_split=0.1875  # 15% validation (84 images), 80% training (448 images)\n",
    ")\n",
    "test_datagen = ImageDataGenerator(rescale=1./255)"
   ]
  },
  {
   "cell_type": "code",
   "execution_count": 13,
   "id": "d69bca15-78ef-4124-a691-bdcd00a70d65",
   "metadata": {},
   "outputs": [
    {
     "name": "stdout",
     "output_type": "stream",
     "text": [
      "Found 456 images belonging to 4 classes.\n",
      "Found 104 images belonging to 4 classes.\n",
      "Found 560 images belonging to 4 classes.\n"
     ]
    }
   ],
   "source": [
    "# Load datasets\n",
    "train_generator = train_datagen.flow_from_directory(\n",
    "    data_dir,\n",
    "    target_size=img_size,\n",
    "    batch_size=batch_size,\n",
    "    class_mode='categorical',\n",
    "    subset='training'  # 448 images\n",
    ")\n",
    "validation_generator = train_datagen.flow_from_directory(\n",
    "    data_dir,\n",
    "    target_size=img_size,\n",
    "    batch_size=batch_size,\n",
    "    class_mode='categorical',\n",
    "    subset='validation'  # 84 images\n",
    ")\n",
    "test_generator = test_datagen.flow_from_directory(\n",
    "    data_dir,\n",
    "    target_size=img_size,\n",
    "    batch_size=batch_size,\n",
    "    class_mode='categorical',\n",
    "    shuffle=False  # For consistent evaluation\n",
    ")"
   ]
  },
  {
   "cell_type": "code",
   "execution_count": 14,
   "id": "726a59f2-9a52-40b1-b399-788c0e1505df",
   "metadata": {},
   "outputs": [
    {
     "name": "stderr",
     "output_type": "stream",
     "text": [
      "/opt/anaconda3/envs/cnn_env/lib/python3.10/site-packages/keras/src/layers/convolutional/base_conv.py:113: UserWarning: Do not pass an `input_shape`/`input_dim` argument to a layer. When using Sequential models, prefer using an `Input(shape)` object as the first layer in the model instead.\n",
      "  super().__init__(activity_regularizer=activity_regularizer, **kwargs)\n"
     ]
    }
   ],
   "source": [
    "# Build CNN model\n",
    "model = Sequential([\n",
    "    Conv2D(32, (3, 3), activation='relu', input_shape=(224, 224, 3)),\n",
    "    MaxPooling2D((2, 2)),\n",
    "    Conv2D(64, (3, 3), activation='relu'),\n",
    "    MaxPooling2D((2, 2)),\n",
    "    Flatten(),\n",
    "    Dense(128, activation='relu'),\n",
    "    Dropout(0.5),\n",
    "    Dense(num_classes, activation='softmax')\n",
    "])\n"
   ]
  },
  {
   "cell_type": "code",
   "execution_count": 15,
   "id": "e3b8925c-000c-4783-b68a-9ce6de97d1d5",
   "metadata": {},
   "outputs": [],
   "source": [
    "# Compile model\n",
    "model.compile(optimizer=tf.keras.optimizers.Adam(learning_rate=0.001),\n",
    "              loss='categorical_crossentropy',\n",
    "              metrics=['accuracy', 'Precision', 'Recall'])\n",
    "\n"
   ]
  },
  {
   "cell_type": "code",
   "execution_count": 16,
   "id": "e1954f57-12f7-4850-b1ee-57db26ff41cb",
   "metadata": {},
   "outputs": [
    {
     "data": {
      "text/html": [
       "<pre style=\"white-space:pre;overflow-x:auto;line-height:normal;font-family:Menlo,'DejaVu Sans Mono',consolas,'Courier New',monospace\"><span style=\"font-weight: bold\">Model: \"sequential\"</span>\n",
       "</pre>\n"
      ],
      "text/plain": [
       "\u001b[1mModel: \"sequential\"\u001b[0m\n"
      ]
     },
     "metadata": {},
     "output_type": "display_data"
    },
    {
     "data": {
      "text/html": [
       "<pre style=\"white-space:pre;overflow-x:auto;line-height:normal;font-family:Menlo,'DejaVu Sans Mono',consolas,'Courier New',monospace\">┏━━━━━━━━━━━━━━━━━━━━━━━━━━━━━━━━━┳━━━━━━━━━━━━━━━━━━━━━━━━┳━━━━━━━━━━━━━━━┓\n",
       "┃<span style=\"font-weight: bold\"> Layer (type)                    </span>┃<span style=\"font-weight: bold\"> Output Shape           </span>┃<span style=\"font-weight: bold\">       Param # </span>┃\n",
       "┡━━━━━━━━━━━━━━━━━━━━━━━━━━━━━━━━━╇━━━━━━━━━━━━━━━━━━━━━━━━╇━━━━━━━━━━━━━━━┩\n",
       "│ conv2d (<span style=\"color: #0087ff; text-decoration-color: #0087ff\">Conv2D</span>)                 │ (<span style=\"color: #00d7ff; text-decoration-color: #00d7ff\">None</span>, <span style=\"color: #00af00; text-decoration-color: #00af00\">222</span>, <span style=\"color: #00af00; text-decoration-color: #00af00\">222</span>, <span style=\"color: #00af00; text-decoration-color: #00af00\">32</span>)   │           <span style=\"color: #00af00; text-decoration-color: #00af00\">896</span> │\n",
       "├─────────────────────────────────┼────────────────────────┼───────────────┤\n",
       "│ max_pooling2d (<span style=\"color: #0087ff; text-decoration-color: #0087ff\">MaxPooling2D</span>)    │ (<span style=\"color: #00d7ff; text-decoration-color: #00d7ff\">None</span>, <span style=\"color: #00af00; text-decoration-color: #00af00\">111</span>, <span style=\"color: #00af00; text-decoration-color: #00af00\">111</span>, <span style=\"color: #00af00; text-decoration-color: #00af00\">32</span>)   │             <span style=\"color: #00af00; text-decoration-color: #00af00\">0</span> │\n",
       "├─────────────────────────────────┼────────────────────────┼───────────────┤\n",
       "│ conv2d_1 (<span style=\"color: #0087ff; text-decoration-color: #0087ff\">Conv2D</span>)               │ (<span style=\"color: #00d7ff; text-decoration-color: #00d7ff\">None</span>, <span style=\"color: #00af00; text-decoration-color: #00af00\">109</span>, <span style=\"color: #00af00; text-decoration-color: #00af00\">109</span>, <span style=\"color: #00af00; text-decoration-color: #00af00\">64</span>)   │        <span style=\"color: #00af00; text-decoration-color: #00af00\">18,496</span> │\n",
       "├─────────────────────────────────┼────────────────────────┼───────────────┤\n",
       "│ max_pooling2d_1 (<span style=\"color: #0087ff; text-decoration-color: #0087ff\">MaxPooling2D</span>)  │ (<span style=\"color: #00d7ff; text-decoration-color: #00d7ff\">None</span>, <span style=\"color: #00af00; text-decoration-color: #00af00\">54</span>, <span style=\"color: #00af00; text-decoration-color: #00af00\">54</span>, <span style=\"color: #00af00; text-decoration-color: #00af00\">64</span>)     │             <span style=\"color: #00af00; text-decoration-color: #00af00\">0</span> │\n",
       "├─────────────────────────────────┼────────────────────────┼───────────────┤\n",
       "│ flatten (<span style=\"color: #0087ff; text-decoration-color: #0087ff\">Flatten</span>)               │ (<span style=\"color: #00d7ff; text-decoration-color: #00d7ff\">None</span>, <span style=\"color: #00af00; text-decoration-color: #00af00\">186624</span>)         │             <span style=\"color: #00af00; text-decoration-color: #00af00\">0</span> │\n",
       "├─────────────────────────────────┼────────────────────────┼───────────────┤\n",
       "│ dense (<span style=\"color: #0087ff; text-decoration-color: #0087ff\">Dense</span>)                   │ (<span style=\"color: #00d7ff; text-decoration-color: #00d7ff\">None</span>, <span style=\"color: #00af00; text-decoration-color: #00af00\">128</span>)            │    <span style=\"color: #00af00; text-decoration-color: #00af00\">23,888,000</span> │\n",
       "├─────────────────────────────────┼────────────────────────┼───────────────┤\n",
       "│ dropout (<span style=\"color: #0087ff; text-decoration-color: #0087ff\">Dropout</span>)               │ (<span style=\"color: #00d7ff; text-decoration-color: #00d7ff\">None</span>, <span style=\"color: #00af00; text-decoration-color: #00af00\">128</span>)            │             <span style=\"color: #00af00; text-decoration-color: #00af00\">0</span> │\n",
       "├─────────────────────────────────┼────────────────────────┼───────────────┤\n",
       "│ dense_1 (<span style=\"color: #0087ff; text-decoration-color: #0087ff\">Dense</span>)                 │ (<span style=\"color: #00d7ff; text-decoration-color: #00d7ff\">None</span>, <span style=\"color: #00af00; text-decoration-color: #00af00\">4</span>)              │           <span style=\"color: #00af00; text-decoration-color: #00af00\">516</span> │\n",
       "└─────────────────────────────────┴────────────────────────┴───────────────┘\n",
       "</pre>\n"
      ],
      "text/plain": [
       "┏━━━━━━━━━━━━━━━━━━━━━━━━━━━━━━━━━┳━━━━━━━━━━━━━━━━━━━━━━━━┳━━━━━━━━━━━━━━━┓\n",
       "┃\u001b[1m \u001b[0m\u001b[1mLayer (type)                   \u001b[0m\u001b[1m \u001b[0m┃\u001b[1m \u001b[0m\u001b[1mOutput Shape          \u001b[0m\u001b[1m \u001b[0m┃\u001b[1m \u001b[0m\u001b[1m      Param #\u001b[0m\u001b[1m \u001b[0m┃\n",
       "┡━━━━━━━━━━━━━━━━━━━━━━━━━━━━━━━━━╇━━━━━━━━━━━━━━━━━━━━━━━━╇━━━━━━━━━━━━━━━┩\n",
       "│ conv2d (\u001b[38;5;33mConv2D\u001b[0m)                 │ (\u001b[38;5;45mNone\u001b[0m, \u001b[38;5;34m222\u001b[0m, \u001b[38;5;34m222\u001b[0m, \u001b[38;5;34m32\u001b[0m)   │           \u001b[38;5;34m896\u001b[0m │\n",
       "├─────────────────────────────────┼────────────────────────┼───────────────┤\n",
       "│ max_pooling2d (\u001b[38;5;33mMaxPooling2D\u001b[0m)    │ (\u001b[38;5;45mNone\u001b[0m, \u001b[38;5;34m111\u001b[0m, \u001b[38;5;34m111\u001b[0m, \u001b[38;5;34m32\u001b[0m)   │             \u001b[38;5;34m0\u001b[0m │\n",
       "├─────────────────────────────────┼────────────────────────┼───────────────┤\n",
       "│ conv2d_1 (\u001b[38;5;33mConv2D\u001b[0m)               │ (\u001b[38;5;45mNone\u001b[0m, \u001b[38;5;34m109\u001b[0m, \u001b[38;5;34m109\u001b[0m, \u001b[38;5;34m64\u001b[0m)   │        \u001b[38;5;34m18,496\u001b[0m │\n",
       "├─────────────────────────────────┼────────────────────────┼───────────────┤\n",
       "│ max_pooling2d_1 (\u001b[38;5;33mMaxPooling2D\u001b[0m)  │ (\u001b[38;5;45mNone\u001b[0m, \u001b[38;5;34m54\u001b[0m, \u001b[38;5;34m54\u001b[0m, \u001b[38;5;34m64\u001b[0m)     │             \u001b[38;5;34m0\u001b[0m │\n",
       "├─────────────────────────────────┼────────────────────────┼───────────────┤\n",
       "│ flatten (\u001b[38;5;33mFlatten\u001b[0m)               │ (\u001b[38;5;45mNone\u001b[0m, \u001b[38;5;34m186624\u001b[0m)         │             \u001b[38;5;34m0\u001b[0m │\n",
       "├─────────────────────────────────┼────────────────────────┼───────────────┤\n",
       "│ dense (\u001b[38;5;33mDense\u001b[0m)                   │ (\u001b[38;5;45mNone\u001b[0m, \u001b[38;5;34m128\u001b[0m)            │    \u001b[38;5;34m23,888,000\u001b[0m │\n",
       "├─────────────────────────────────┼────────────────────────┼───────────────┤\n",
       "│ dropout (\u001b[38;5;33mDropout\u001b[0m)               │ (\u001b[38;5;45mNone\u001b[0m, \u001b[38;5;34m128\u001b[0m)            │             \u001b[38;5;34m0\u001b[0m │\n",
       "├─────────────────────────────────┼────────────────────────┼───────────────┤\n",
       "│ dense_1 (\u001b[38;5;33mDense\u001b[0m)                 │ (\u001b[38;5;45mNone\u001b[0m, \u001b[38;5;34m4\u001b[0m)              │           \u001b[38;5;34m516\u001b[0m │\n",
       "└─────────────────────────────────┴────────────────────────┴───────────────┘\n"
      ]
     },
     "metadata": {},
     "output_type": "display_data"
    },
    {
     "data": {
      "text/html": [
       "<pre style=\"white-space:pre;overflow-x:auto;line-height:normal;font-family:Menlo,'DejaVu Sans Mono',consolas,'Courier New',monospace\"><span style=\"font-weight: bold\"> Total params: </span><span style=\"color: #00af00; text-decoration-color: #00af00\">23,907,908</span> (91.20 MB)\n",
       "</pre>\n"
      ],
      "text/plain": [
       "\u001b[1m Total params: \u001b[0m\u001b[38;5;34m23,907,908\u001b[0m (91.20 MB)\n"
      ]
     },
     "metadata": {},
     "output_type": "display_data"
    },
    {
     "data": {
      "text/html": [
       "<pre style=\"white-space:pre;overflow-x:auto;line-height:normal;font-family:Menlo,'DejaVu Sans Mono',consolas,'Courier New',monospace\"><span style=\"font-weight: bold\"> Trainable params: </span><span style=\"color: #00af00; text-decoration-color: #00af00\">23,907,908</span> (91.20 MB)\n",
       "</pre>\n"
      ],
      "text/plain": [
       "\u001b[1m Trainable params: \u001b[0m\u001b[38;5;34m23,907,908\u001b[0m (91.20 MB)\n"
      ]
     },
     "metadata": {},
     "output_type": "display_data"
    },
    {
     "data": {
      "text/html": [
       "<pre style=\"white-space:pre;overflow-x:auto;line-height:normal;font-family:Menlo,'DejaVu Sans Mono',consolas,'Courier New',monospace\"><span style=\"font-weight: bold\"> Non-trainable params: </span><span style=\"color: #00af00; text-decoration-color: #00af00\">0</span> (0.00 B)\n",
       "</pre>\n"
      ],
      "text/plain": [
       "\u001b[1m Non-trainable params: \u001b[0m\u001b[38;5;34m0\u001b[0m (0.00 B)\n"
      ]
     },
     "metadata": {},
     "output_type": "display_data"
    }
   ],
   "source": [
    "# Print model summary\n",
    "model.summary()"
   ]
  },
  {
   "cell_type": "code",
   "execution_count": 17,
   "id": "e640ddd3-8081-4b6a-af63-1c3327e36586",
   "metadata": {},
   "outputs": [
    {
     "name": "stderr",
     "output_type": "stream",
     "text": [
      "/opt/anaconda3/envs/cnn_env/lib/python3.10/site-packages/keras/src/trainers/data_adapters/py_dataset_adapter.py:121: UserWarning: Your `PyDataset` class should call `super().__init__(**kwargs)` in its constructor. `**kwargs` can include `workers`, `use_multiprocessing`, `max_queue_size`. Do not pass these arguments to `fit()`, as they will be ignored.\n",
      "  self._warn_if_super_not_called()\n"
     ]
    },
    {
     "name": "stdout",
     "output_type": "stream",
     "text": [
      "Epoch 1/30\n",
      "\u001b[1m29/29\u001b[0m \u001b[32m━━━━━━━━━━━━━━━━━━━━\u001b[0m\u001b[37m\u001b[0m \u001b[1m6s\u001b[0m 168ms/step - Precision: 0.3262 - Recall: 0.2106 - accuracy: 0.2907 - loss: 4.4831 - val_Precision: 0.8000 - val_Recall: 0.1154 - val_accuracy: 0.6346 - val_loss: 1.1206\n",
      "Epoch 2/30\n",
      "\u001b[1m29/29\u001b[0m \u001b[32m━━━━━━━━━━━━━━━━━━━━\u001b[0m\u001b[37m\u001b[0m \u001b[1m4s\u001b[0m 152ms/step - Precision: 0.6836 - Recall: 0.3161 - accuracy: 0.5680 - loss: 1.0467 - val_Precision: 0.9138 - val_Recall: 0.5096 - val_accuracy: 0.7692 - val_loss: 0.7373\n",
      "Epoch 3/30\n",
      "\u001b[1m29/29\u001b[0m \u001b[32m━━━━━━━━━━━━━━━━━━━━\u001b[0m\u001b[37m\u001b[0m \u001b[1m4s\u001b[0m 152ms/step - Precision: 0.7205 - Recall: 0.5105 - accuracy: 0.6283 - loss: 0.8800 - val_Precision: 0.8876 - val_Recall: 0.7596 - val_accuracy: 0.8269 - val_loss: 0.4689\n",
      "Epoch 4/30\n",
      "\u001b[1m29/29\u001b[0m \u001b[32m━━━━━━━━━━━━━━━━━━━━\u001b[0m\u001b[37m\u001b[0m \u001b[1m4s\u001b[0m 147ms/step - Precision: 0.7918 - Recall: 0.6555 - accuracy: 0.7272 - loss: 0.7350 - val_Precision: 0.9146 - val_Recall: 0.7212 - val_accuracy: 0.8654 - val_loss: 0.5227\n",
      "Epoch 5/30\n",
      "\u001b[1m29/29\u001b[0m \u001b[32m━━━━━━━━━━━━━━━━━━━━\u001b[0m\u001b[37m\u001b[0m \u001b[1m4s\u001b[0m 150ms/step - Precision: 0.8243 - Recall: 0.6860 - accuracy: 0.7545 - loss: 0.6313 - val_Precision: 0.8913 - val_Recall: 0.7885 - val_accuracy: 0.8462 - val_loss: 0.3692\n",
      "Epoch 6/30\n",
      "\u001b[1m29/29\u001b[0m \u001b[32m━━━━━━━━━━━━━━━━━━━━\u001b[0m\u001b[37m\u001b[0m \u001b[1m4s\u001b[0m 152ms/step - Precision: 0.7956 - Recall: 0.7327 - accuracy: 0.7655 - loss: 0.6034 - val_Precision: 0.9072 - val_Recall: 0.8462 - val_accuracy: 0.8750 - val_loss: 0.3469\n",
      "Epoch 7/30\n",
      "\u001b[1m29/29\u001b[0m \u001b[32m━━━━━━━━━━━━━━━━━━━━\u001b[0m\u001b[37m\u001b[0m \u001b[1m4s\u001b[0m 150ms/step - Precision: 0.8406 - Recall: 0.7946 - accuracy: 0.8187 - loss: 0.4802 - val_Precision: 0.8020 - val_Recall: 0.7788 - val_accuracy: 0.7885 - val_loss: 0.4113\n",
      "Epoch 8/30\n",
      "\u001b[1m29/29\u001b[0m \u001b[32m━━━━━━━━━━━━━━━━━━━━\u001b[0m\u001b[37m\u001b[0m \u001b[1m4s\u001b[0m 151ms/step - Precision: 0.8261 - Recall: 0.7756 - accuracy: 0.8140 - loss: 0.5243 - val_Precision: 0.9072 - val_Recall: 0.8462 - val_accuracy: 0.8942 - val_loss: 0.2722\n",
      "Epoch 9/30\n",
      "\u001b[1m29/29\u001b[0m \u001b[32m━━━━━━━━━━━━━━━━━━━━\u001b[0m\u001b[37m\u001b[0m \u001b[1m4s\u001b[0m 150ms/step - Precision: 0.9046 - Recall: 0.8523 - accuracy: 0.8803 - loss: 0.3631 - val_Precision: 0.9192 - val_Recall: 0.8750 - val_accuracy: 0.8942 - val_loss: 0.2649\n",
      "Epoch 10/30\n",
      "\u001b[1m29/29\u001b[0m \u001b[32m━━━━━━━━━━━━━━━━━━━━\u001b[0m\u001b[37m\u001b[0m \u001b[1m4s\u001b[0m 148ms/step - Precision: 0.8779 - Recall: 0.8388 - accuracy: 0.8605 - loss: 0.3577 - val_Precision: 0.9375 - val_Recall: 0.8654 - val_accuracy: 0.9135 - val_loss: 0.2687\n",
      "Epoch 11/30\n",
      "\u001b[1m29/29\u001b[0m \u001b[32m━━━━━━━━━━━━━━━━━━━━\u001b[0m\u001b[37m\u001b[0m \u001b[1m4s\u001b[0m 150ms/step - Precision: 0.9020 - Recall: 0.8673 - accuracy: 0.8894 - loss: 0.3474 - val_Precision: 0.9596 - val_Recall: 0.9135 - val_accuracy: 0.9423 - val_loss: 0.1989\n",
      "Epoch 12/30\n",
      "\u001b[1m29/29\u001b[0m \u001b[32m━━━━━━━━━━━━━━━━━━━━\u001b[0m\u001b[37m\u001b[0m \u001b[1m4s\u001b[0m 147ms/step - Precision: 0.9028 - Recall: 0.8837 - accuracy: 0.8945 - loss: 0.4367 - val_Precision: 0.9216 - val_Recall: 0.9038 - val_accuracy: 0.9135 - val_loss: 0.2560\n",
      "Epoch 13/30\n",
      "\u001b[1m29/29\u001b[0m \u001b[32m━━━━━━━━━━━━━━━━━━━━\u001b[0m\u001b[37m\u001b[0m \u001b[1m4s\u001b[0m 149ms/step - Precision: 0.8694 - Recall: 0.8494 - accuracy: 0.8582 - loss: 0.4790 - val_Precision: 0.9314 - val_Recall: 0.9135 - val_accuracy: 0.9135 - val_loss: 0.2545\n",
      "Epoch 14/30\n",
      "\u001b[1m29/29\u001b[0m \u001b[32m━━━━━━━━━━━━━━━━━━━━\u001b[0m\u001b[37m\u001b[0m \u001b[1m4s\u001b[0m 149ms/step - Precision: 0.9121 - Recall: 0.8952 - accuracy: 0.9020 - loss: 0.2788 - val_Precision: 0.9400 - val_Recall: 0.9038 - val_accuracy: 0.9231 - val_loss: 0.2190\n",
      "Epoch 15/30\n",
      "\u001b[1m29/29\u001b[0m \u001b[32m━━━━━━━━━━━━━━━━━━━━\u001b[0m\u001b[37m\u001b[0m \u001b[1m4s\u001b[0m 151ms/step - Precision: 0.9262 - Recall: 0.9161 - accuracy: 0.9201 - loss: 0.2425 - val_Precision: 0.9510 - val_Recall: 0.9327 - val_accuracy: 0.9423 - val_loss: 0.1661\n",
      "Epoch 16/30\n",
      "\u001b[1m29/29\u001b[0m \u001b[32m━━━━━━━━━━━━━━━━━━━━\u001b[0m\u001b[37m\u001b[0m \u001b[1m4s\u001b[0m 149ms/step - Precision: 0.9591 - Recall: 0.9365 - accuracy: 0.9517 - loss: 0.1965 - val_Precision: 0.9612 - val_Recall: 0.9519 - val_accuracy: 0.9519 - val_loss: 0.1395\n",
      "Epoch 17/30\n",
      "\u001b[1m29/29\u001b[0m \u001b[32m━━━━━━━━━━━━━━━━━━━━\u001b[0m\u001b[37m\u001b[0m \u001b[1m4s\u001b[0m 151ms/step - Precision: 0.9286 - Recall: 0.9074 - accuracy: 0.9107 - loss: 0.2830 - val_Precision: 0.8812 - val_Recall: 0.8558 - val_accuracy: 0.8750 - val_loss: 0.3228\n",
      "Epoch 18/30\n",
      "\u001b[1m29/29\u001b[0m \u001b[32m━━━━━━━━━━━━━━━━━━━━\u001b[0m\u001b[37m\u001b[0m \u001b[1m4s\u001b[0m 149ms/step - Precision: 0.8929 - Recall: 0.8685 - accuracy: 0.8909 - loss: 0.4514 - val_Precision: 0.9314 - val_Recall: 0.9135 - val_accuracy: 0.9231 - val_loss: 0.2168\n",
      "Epoch 19/30\n",
      "\u001b[1m29/29\u001b[0m \u001b[32m━━━━━━━━━━━━━━━━━━━━\u001b[0m\u001b[37m\u001b[0m \u001b[1m4s\u001b[0m 150ms/step - Precision: 0.9050 - Recall: 0.8773 - accuracy: 0.9005 - loss: 0.2767 - val_Precision: 0.9519 - val_Recall: 0.9519 - val_accuracy: 0.9519 - val_loss: 0.1129\n",
      "Epoch 20/30\n",
      "\u001b[1m29/29\u001b[0m \u001b[32m━━━━━━━━━━━━━━━━━━━━\u001b[0m\u001b[37m\u001b[0m \u001b[1m4s\u001b[0m 152ms/step - Precision: 0.9388 - Recall: 0.9262 - accuracy: 0.9358 - loss: 0.2221 - val_Precision: 0.9806 - val_Recall: 0.9712 - val_accuracy: 0.9712 - val_loss: 0.1006\n",
      "Epoch 21/30\n",
      "\u001b[1m29/29\u001b[0m \u001b[32m━━━━━━━━━━━━━━━━━━━━\u001b[0m\u001b[37m\u001b[0m \u001b[1m4s\u001b[0m 150ms/step - Precision: 0.9298 - Recall: 0.9128 - accuracy: 0.9196 - loss: 0.2602 - val_Precision: 0.9615 - val_Recall: 0.9615 - val_accuracy: 0.9615 - val_loss: 0.1530\n",
      "Epoch 22/30\n",
      "\u001b[1m29/29\u001b[0m \u001b[32m━━━━━━━━━━━━━━━━━━━━\u001b[0m\u001b[37m\u001b[0m \u001b[1m4s\u001b[0m 148ms/step - Precision: 0.9177 - Recall: 0.9079 - accuracy: 0.9110 - loss: 0.2184 - val_Precision: 0.9615 - val_Recall: 0.9615 - val_accuracy: 0.9615 - val_loss: 0.1648\n",
      "Epoch 23/30\n",
      "\u001b[1m29/29\u001b[0m \u001b[32m━━━━━━━━━━━━━━━━━━━━\u001b[0m\u001b[37m\u001b[0m \u001b[1m4s\u001b[0m 149ms/step - Precision: 0.9340 - Recall: 0.9173 - accuracy: 0.9265 - loss: 0.3010 - val_Precision: 0.9706 - val_Recall: 0.9519 - val_accuracy: 0.9615 - val_loss: 0.1117\n",
      "Epoch 24/30\n",
      "\u001b[1m29/29\u001b[0m \u001b[32m━━━━━━━━━━━━━━━━━━━━\u001b[0m\u001b[37m\u001b[0m \u001b[1m4s\u001b[0m 149ms/step - Precision: 0.9277 - Recall: 0.9106 - accuracy: 0.9211 - loss: 0.3190 - val_Precision: 0.9604 - val_Recall: 0.9327 - val_accuracy: 0.9519 - val_loss: 0.2412\n",
      "Epoch 25/30\n",
      "\u001b[1m29/29\u001b[0m \u001b[32m━━━━━━━━━━━━━━━━━━━━\u001b[0m\u001b[37m\u001b[0m \u001b[1m4s\u001b[0m 152ms/step - Precision: 0.9406 - Recall: 0.9121 - accuracy: 0.9421 - loss: 0.2239 - val_Precision: 0.9804 - val_Recall: 0.9615 - val_accuracy: 0.9808 - val_loss: 0.0658\n",
      "Epoch 26/30\n",
      "\u001b[1m29/29\u001b[0m \u001b[32m━━━━━━━━━━━━━━━━━━━━\u001b[0m\u001b[37m\u001b[0m \u001b[1m4s\u001b[0m 152ms/step - Precision: 0.9281 - Recall: 0.9232 - accuracy: 0.9235 - loss: 0.2891 - val_Precision: 0.9417 - val_Recall: 0.9327 - val_accuracy: 0.9327 - val_loss: 0.1636\n",
      "Epoch 27/30\n",
      "\u001b[1m29/29\u001b[0m \u001b[32m━━━━━━━━━━━━━━━━━━━━\u001b[0m\u001b[37m\u001b[0m \u001b[1m4s\u001b[0m 150ms/step - Precision: 0.9368 - Recall: 0.9236 - accuracy: 0.9315 - loss: 0.2242 - val_Precision: 0.9808 - val_Recall: 0.9808 - val_accuracy: 0.9808 - val_loss: 0.0806\n",
      "Epoch 28/30\n",
      "\u001b[1m29/29\u001b[0m \u001b[32m━━━━━━━━━━━━━━━━━━━━\u001b[0m\u001b[37m\u001b[0m \u001b[1m4s\u001b[0m 149ms/step - Precision: 0.9516 - Recall: 0.9507 - accuracy: 0.9516 - loss: 0.1953 - val_Precision: 0.9802 - val_Recall: 0.9519 - val_accuracy: 0.9712 - val_loss: 0.0861\n",
      "Epoch 29/30\n",
      "\u001b[1m29/29\u001b[0m \u001b[32m━━━━━━━━━━━━━━━━━━━━\u001b[0m\u001b[37m\u001b[0m \u001b[1m4s\u001b[0m 150ms/step - Precision: 0.9545 - Recall: 0.9474 - accuracy: 0.9484 - loss: 0.1847 - val_Precision: 0.9804 - val_Recall: 0.9615 - val_accuracy: 0.9712 - val_loss: 0.0928\n",
      "Epoch 30/30\n",
      "\u001b[1m29/29\u001b[0m \u001b[32m━━━━━━━━━━━━━━━━━━━━\u001b[0m\u001b[37m\u001b[0m \u001b[1m4s\u001b[0m 149ms/step - Precision: 0.9530 - Recall: 0.9527 - accuracy: 0.9530 - loss: 0.1465 - val_Precision: 0.9806 - val_Recall: 0.9712 - val_accuracy: 0.9712 - val_loss: 0.0873\n"
     ]
    }
   ],
   "source": [
    "# Train model\n",
    "early_stopping = EarlyStopping(monitor='val_loss', patience=5, restore_best_weights=True)\n",
    "history = model.fit(\n",
    "    train_generator,\n",
    "    epochs=epochs,\n",
    "    validation_data=validation_generator,\n",
    "    callbacks=[early_stopping]\n",
    ")"
   ]
  },
  {
   "cell_type": "code",
   "execution_count": 18,
   "id": "8d04272f-47a9-4b63-8243-3acf77ac79e9",
   "metadata": {},
   "outputs": [
    {
     "name": "stdout",
     "output_type": "stream",
     "text": [
      "\u001b[1m35/35\u001b[0m \u001b[32m━━━━━━━━━━━━━━━━━━━━\u001b[0m\u001b[37m\u001b[0m \u001b[1m1s\u001b[0m 34ms/step - Precision: 0.9953 - Recall: 0.9779 - accuracy: 0.9936 - loss: 0.0439\n",
      "Test Accuracy: 0.9929, Precision: 0.9946, Recall: 0.9857\n"
     ]
    }
   ],
   "source": [
    "# Evaluate on test set\n",
    "test_loss, test_accuracy, test_precision, test_recall = model.evaluate(test_generator)\n",
    "print(f\"Test Accuracy: {test_accuracy:.4f}, Precision: {test_precision:.4f}, Recall: {test_recall:.4f}\")"
   ]
  },
  {
   "cell_type": "code",
   "execution_count": 19,
   "id": "a998369d-7b1b-408f-b14f-39314eaab11f",
   "metadata": {},
   "outputs": [
    {
     "name": "stderr",
     "output_type": "stream",
     "text": [
      "WARNING:absl:You are saving your model as an HDF5 file via `model.save()` or `keras.saving.save_model(model)`. This file format is considered legacy. We recommend using instead the native Keras format, e.g. `model.save('my_model.keras')` or `keras.saving.save_model(model, 'my_model.keras')`. \n"
     ]
    }
   ],
   "source": [
    "# Save model\n",
    "model.save(\"face_recognition_cnn.h5\")\n"
   ]
  },
  {
   "cell_type": "code",
   "execution_count": 25,
   "id": "94812bb8-418f-44a5-aeb1-94dbe36d423f",
   "metadata": {},
   "outputs": [
    {
     "name": "stderr",
     "output_type": "stream",
     "text": [
      "WARNING:absl:Compiled the loaded model, but the compiled metrics have yet to be built. `model.compile_metrics` will be empty until you train or evaluate the model.\n"
     ]
    },
    {
     "name": "stdout",
     "output_type": "stream",
     "text": [
      "\u001b[1m1/1\u001b[0m \u001b[32m━━━━━━━━━━━━━━━━━━━━\u001b[0m\u001b[37m\u001b[0m \u001b[1m0s\u001b[0m 48ms/step\n",
      "Predicted: riznee with probability 0.9998\n"
     ]
    }
   ],
   "source": [
    "# Load model\n",
    "model = tf.keras.models.load_model(\"face_recognition_cnn.h5\")\n",
    "\n",
    "# Test with an untrained image\n",
    "from tensorflow.keras.preprocessing import image\n",
    "def predict_image(img_path, model, threshold=0.5):\n",
    "    img = image.load_img(img_path, target_size=img_size)\n",
    "    img_array = image.img_to_array(img) / 255.0\n",
    "    img_array = np.expand_dims(img_array, axis=0)\n",
    "    prediction = model.predict(img_array)[0]\n",
    "    max_prob = np.max(prediction)\n",
    "    class_idx = np.argmax(prediction)\n",
    "    class_names = list(train_generator.class_indices.keys())\n",
    "    \n",
    "    if max_prob > threshold and class_idx != class_names.index('unmatched'):\n",
    "        print(f\"Predicted: {class_names[class_idx]} with probability {max_prob:.4f}\")\n",
    "    else:\n",
    "        print(\"Not matching any known person\")\n",
    "\n",
    "# Example usage\n",
    "predict_image(\"/Users/mohamednashath/Desktop/projectface/testrandom/naathi2.jpeg\", model)"
   ]
  },
  {
   "cell_type": "code",
   "execution_count": 26,
   "id": "953e1699-0c72-4ce1-b64d-31eca8f25ef3",
   "metadata": {},
   "outputs": [
    {
     "name": "stderr",
     "output_type": "stream",
     "text": [
      "WARNING:absl:Compiled the loaded model, but the compiled metrics have yet to be built. `model.compile_metrics` will be empty until you train or evaluate the model.\n"
     ]
    },
    {
     "name": "stdout",
     "output_type": "stream",
     "text": [
      "\u001b[1m1/1\u001b[0m \u001b[32m━━━━━━━━━━━━━━━━━━━━\u001b[0m\u001b[37m\u001b[0m \u001b[1m0s\u001b[0m 46ms/step\n",
      "Predicted: naathi with probability 0.9968\n"
     ]
    }
   ],
   "source": [
    "# Load model\n",
    "model = tf.keras.models.load_model(\"face_recognition_cnn.h5\")\n",
    "\n",
    "# Test with an untrained image\n",
    "from tensorflow.keras.preprocessing import image\n",
    "def predict_image(img_path, model, threshold=0.5):\n",
    "    img = image.load_img(img_path, target_size=img_size)\n",
    "    img_array = image.img_to_array(img) / 255.0\n",
    "    img_array = np.expand_dims(img_array, axis=0)\n",
    "    prediction = model.predict(img_array)[0]\n",
    "    max_prob = np.max(prediction)\n",
    "    class_idx = np.argmax(prediction)\n",
    "    class_names = list(train_generator.class_indices.keys())\n",
    "    \n",
    "    if max_prob > threshold and class_idx != class_names.index('unmatched'):\n",
    "        print(f\"Predicted: {class_names[class_idx]} with probability {max_prob:.4f}\")\n",
    "    else:\n",
    "        print(\"Not matching any known person\")\n",
    "\n",
    "# Example usage\n",
    "predict_image(\"/Users/mohamednashath/Desktop/projectface/testrandom/naathi3.jpeg\", model)"
   ]
  },
  {
   "cell_type": "code",
   "execution_count": 24,
   "id": "9afc559d-a2e1-4650-8034-94ccb3f568a2",
   "metadata": {},
   "outputs": [
    {
     "name": "stderr",
     "output_type": "stream",
     "text": [
      "WARNING:absl:Compiled the loaded model, but the compiled metrics have yet to be built. `model.compile_metrics` will be empty until you train or evaluate the model.\n"
     ]
    },
    {
     "name": "stdout",
     "output_type": "stream",
     "text": [
      "\u001b[1m1/1\u001b[0m \u001b[32m━━━━━━━━━━━━━━━━━━━━\u001b[0m\u001b[37m\u001b[0m \u001b[1m0s\u001b[0m 48ms/step\n",
      "Predicted: nazeef with probability 0.7817\n"
     ]
    }
   ],
   "source": [
    "# Load model\n",
    "model = tf.keras.models.load_model(\"face_recognition_cnn.h5\")\n",
    "\n",
    "# Test with an untrained image\n",
    "from tensorflow.keras.preprocessing import image\n",
    "def predict_image(img_path, model, threshold=0.5):\n",
    "    img = image.load_img(img_path, target_size=img_size)\n",
    "    img_array = image.img_to_array(img) / 255.0\n",
    "    img_array = np.expand_dims(img_array, axis=0)\n",
    "    prediction = model.predict(img_array)[0]\n",
    "    max_prob = np.max(prediction)\n",
    "    class_idx = np.argmax(prediction)\n",
    "    class_names = list(train_generator.class_indices.keys())\n",
    "    \n",
    "    if max_prob > threshold and class_idx != class_names.index('unmatched'):\n",
    "        print(f\"Predicted: {class_names[class_idx]} with probability {max_prob:.4f}\")\n",
    "    else:\n",
    "        print(\"Not matching any known person\")\n",
    "\n",
    "# Example usage\n",
    "predict_image(\"/Users/mohamednashath/Desktop/projectface/testrandom/naathi.jpeg\", model)"
   ]
  },
  {
   "cell_type": "code",
   "execution_count": 27,
   "id": "f2bf7774-5fb6-4efe-83bb-4bbf6def27ca",
   "metadata": {},
   "outputs": [
    {
     "name": "stderr",
     "output_type": "stream",
     "text": [
      "WARNING:absl:Compiled the loaded model, but the compiled metrics have yet to be built. `model.compile_metrics` will be empty until you train or evaluate the model.\n"
     ]
    },
    {
     "name": "stdout",
     "output_type": "stream",
     "text": [
      "\u001b[1m1/1\u001b[0m \u001b[32m━━━━━━━━━━━━━━━━━━━━\u001b[0m\u001b[37m\u001b[0m \u001b[1m0s\u001b[0m 46ms/step\n",
      "Predicted: naathi with probability 0.9680\n"
     ]
    }
   ],
   "source": [
    "# Load model\n",
    "model = tf.keras.models.load_model(\"face_recognition_cnn.h5\")\n",
    "\n",
    "# Test with an untrained image\n",
    "from tensorflow.keras.preprocessing import image\n",
    "def predict_image(img_path, model, threshold=0.5):\n",
    "    img = image.load_img(img_path, target_size=img_size)\n",
    "    img_array = image.img_to_array(img) / 255.0\n",
    "    img_array = np.expand_dims(img_array, axis=0)\n",
    "    prediction = model.predict(img_array)[0]\n",
    "    max_prob = np.max(prediction)\n",
    "    class_idx = np.argmax(prediction)\n",
    "    class_names = list(train_generator.class_indices.keys())\n",
    "    \n",
    "    if max_prob > threshold and class_idx != class_names.index('unmatched'):\n",
    "        print(f\"Predicted: {class_names[class_idx]} with probability {max_prob:.4f}\")\n",
    "    else:\n",
    "        print(\"Not matching any known person\")\n",
    "\n",
    "# Example usage\n",
    "predict_image(\"/Users/mohamednashath/Desktop/projectface/testrandom/naathi4.jpeg\", model)"
   ]
  },
  {
   "cell_type": "code",
   "execution_count": 28,
   "id": "ce56880f-82b0-4b83-8e62-4937cf61de3b",
   "metadata": {},
   "outputs": [
    {
     "name": "stderr",
     "output_type": "stream",
     "text": [
      "WARNING:absl:Compiled the loaded model, but the compiled metrics have yet to be built. `model.compile_metrics` will be empty until you train or evaluate the model.\n"
     ]
    },
    {
     "name": "stdout",
     "output_type": "stream",
     "text": [
      "\u001b[1m1/1\u001b[0m \u001b[32m━━━━━━━━━━━━━━━━━━━━\u001b[0m\u001b[37m\u001b[0m \u001b[1m0s\u001b[0m 46ms/step\n",
      "Predicted: riznee with probability 0.9838\n"
     ]
    }
   ],
   "source": [
    "# Load model\n",
    "model = tf.keras.models.load_model(\"face_recognition_cnn.h5\")\n",
    "\n",
    "# Test with an untrained image\n",
    "from tensorflow.keras.preprocessing import image\n",
    "def predict_image(img_path, model, threshold=0.5):\n",
    "    img = image.load_img(img_path, target_size=img_size)\n",
    "    img_array = image.img_to_array(img) / 255.0\n",
    "    img_array = np.expand_dims(img_array, axis=0)\n",
    "    prediction = model.predict(img_array)[0]\n",
    "    max_prob = np.max(prediction)\n",
    "    class_idx = np.argmax(prediction)\n",
    "    class_names = list(train_generator.class_indices.keys())\n",
    "    \n",
    "    if max_prob > threshold and class_idx != class_names.index('unmatched'):\n",
    "        print(f\"Predicted: {class_names[class_idx]} with probability {max_prob:.4f}\")\n",
    "    else:\n",
    "        print(\"Not matching any known person\")\n",
    "\n",
    "# Example usage\n",
    "predict_image(\"/Users/mohamednashath/Desktop/projectface/testrandom/naathi5.jpeg\", model)"
   ]
  },
  {
   "cell_type": "code",
   "execution_count": 29,
   "id": "4619e41d-d905-4ffc-8980-2253e102e13f",
   "metadata": {},
   "outputs": [
    {
     "name": "stderr",
     "output_type": "stream",
     "text": [
      "WARNING:absl:Compiled the loaded model, but the compiled metrics have yet to be built. `model.compile_metrics` will be empty until you train or evaluate the model.\n"
     ]
    },
    {
     "name": "stdout",
     "output_type": "stream",
     "text": [
      "\u001b[1m1/1\u001b[0m \u001b[32m━━━━━━━━━━━━━━━━━━━━\u001b[0m\u001b[37m\u001b[0m \u001b[1m0s\u001b[0m 49ms/step\n",
      "Predicted: nazeef with probability 1.0000\n"
     ]
    }
   ],
   "source": [
    "# Load model\n",
    "model = tf.keras.models.load_model(\"face_recognition_cnn.h5\")\n",
    "\n",
    "# Test with an untrained image\n",
    "from tensorflow.keras.preprocessing import image\n",
    "def predict_image(img_path, model, threshold=0.5):\n",
    "    img = image.load_img(img_path, target_size=img_size)\n",
    "    img_array = image.img_to_array(img) / 255.0\n",
    "    img_array = np.expand_dims(img_array, axis=0)\n",
    "    prediction = model.predict(img_array)[0]\n",
    "    max_prob = np.max(prediction)\n",
    "    class_idx = np.argmax(prediction)\n",
    "    class_names = list(train_generator.class_indices.keys())\n",
    "    \n",
    "    if max_prob > threshold and class_idx != class_names.index('unmatched'):\n",
    "        print(f\"Predicted: {class_names[class_idx]} with probability {max_prob:.4f}\")\n",
    "    else:\n",
    "        print(\"Not matching any known person\")\n",
    "\n",
    "# Example usage\n",
    "predict_image(\"/Users/mohamednashath/Desktop/projectface/testrandom/nazeef.jpeg\", model)"
   ]
  },
  {
   "cell_type": "code",
   "execution_count": 30,
   "id": "92252429-3d84-4f55-ae54-8c552978f2b8",
   "metadata": {},
   "outputs": [
    {
     "name": "stderr",
     "output_type": "stream",
     "text": [
      "WARNING:absl:Compiled the loaded model, but the compiled metrics have yet to be built. `model.compile_metrics` will be empty until you train or evaluate the model.\n"
     ]
    },
    {
     "name": "stdout",
     "output_type": "stream",
     "text": [
      "\u001b[1m1/1\u001b[0m \u001b[32m━━━━━━━━━━━━━━━━━━━━\u001b[0m\u001b[37m\u001b[0m \u001b[1m0s\u001b[0m 46ms/step\n",
      "Predicted: naathi with probability 0.9820\n"
     ]
    }
   ],
   "source": [
    "# Load model\n",
    "model = tf.keras.models.load_model(\"face_recognition_cnn.h5\")\n",
    "\n",
    "# Test with an untrained image\n",
    "from tensorflow.keras.preprocessing import image\n",
    "def predict_image(img_path, model, threshold=0.5):\n",
    "    img = image.load_img(img_path, target_size=img_size)\n",
    "    img_array = image.img_to_array(img) / 255.0\n",
    "    img_array = np.expand_dims(img_array, axis=0)\n",
    "    prediction = model.predict(img_array)[0]\n",
    "    max_prob = np.max(prediction)\n",
    "    class_idx = np.argmax(prediction)\n",
    "    class_names = list(train_generator.class_indices.keys())\n",
    "    \n",
    "    if max_prob > threshold and class_idx != class_names.index('unmatched'):\n",
    "        print(f\"Predicted: {class_names[class_idx]} with probability {max_prob:.4f}\")\n",
    "    else:\n",
    "        print(\"Not matching any known person\")\n",
    "\n",
    "# Example usage\n",
    "predict_image(\"/Users/mohamednashath/Desktop/projectface/testrandom/sulaim.jpeg\", model)"
   ]
  },
  {
   "cell_type": "code",
   "execution_count": 31,
   "id": "2bbc7f42-ac51-4cbb-9568-a2c6254501d8",
   "metadata": {},
   "outputs": [
    {
     "name": "stderr",
     "output_type": "stream",
     "text": [
      "WARNING:absl:Compiled the loaded model, but the compiled metrics have yet to be built. `model.compile_metrics` will be empty until you train or evaluate the model.\n"
     ]
    },
    {
     "name": "stdout",
     "output_type": "stream",
     "text": [
      "\u001b[1m1/1\u001b[0m \u001b[32m━━━━━━━━━━━━━━━━━━━━\u001b[0m\u001b[37m\u001b[0m \u001b[1m0s\u001b[0m 49ms/step\n",
      "Not matching any known person\n"
     ]
    }
   ],
   "source": [
    "# Load model\n",
    "model = tf.keras.models.load_model(\"face_recognition_cnn.h5\")\n",
    "\n",
    "# Test with an untrained image\n",
    "from tensorflow.keras.preprocessing import image\n",
    "def predict_image(img_path, model, threshold=0.5):\n",
    "    img = image.load_img(img_path, target_size=img_size)\n",
    "    img_array = image.img_to_array(img) / 255.0\n",
    "    img_array = np.expand_dims(img_array, axis=0)\n",
    "    prediction = model.predict(img_array)[0]\n",
    "    max_prob = np.max(prediction)\n",
    "    class_idx = np.argmax(prediction)\n",
    "    class_names = list(train_generator.class_indices.keys())\n",
    "    \n",
    "    if max_prob > threshold and class_idx != class_names.index('unmatched'):\n",
    "        print(f\"Predicted: {class_names[class_idx]} with probability {max_prob:.4f}\")\n",
    "    else:\n",
    "        print(\"Not matching any known person\")\n",
    "\n",
    "# Example usage\n",
    "predict_image(\"/Users/mohamednashath/Desktop/projectface/testrandom/riznee.jpeg\", model)"
   ]
  },
  {
   "cell_type": "code",
   "execution_count": 32,
   "id": "dd6daf18-ab17-4d00-9752-c723316703f4",
   "metadata": {},
   "outputs": [
    {
     "name": "stderr",
     "output_type": "stream",
     "text": [
      "WARNING:absl:Compiled the loaded model, but the compiled metrics have yet to be built. `model.compile_metrics` will be empty until you train or evaluate the model.\n"
     ]
    },
    {
     "name": "stdout",
     "output_type": "stream",
     "text": [
      "\u001b[1m1/1\u001b[0m \u001b[32m━━━━━━━━━━━━━━━━━━━━\u001b[0m\u001b[37m\u001b[0m \u001b[1m0s\u001b[0m 47ms/step\n",
      "Predicted: riznee with probability 0.9978\n"
     ]
    }
   ],
   "source": [
    "# Load model\n",
    "model = tf.keras.models.load_model(\"face_recognition_cnn.h5\")\n",
    "\n",
    "# Test with an untrained image\n",
    "from tensorflow.keras.preprocessing import image\n",
    "def predict_image(img_path, model, threshold=0.5):\n",
    "    img = image.load_img(img_path, target_size=img_size)\n",
    "    img_array = image.img_to_array(img) / 255.0\n",
    "    img_array = np.expand_dims(img_array, axis=0)\n",
    "    prediction = model.predict(img_array)[0]\n",
    "    max_prob = np.max(prediction)\n",
    "    class_idx = np.argmax(prediction)\n",
    "    class_names = list(train_generator.class_indices.keys())\n",
    "    \n",
    "    if max_prob > threshold and class_idx != class_names.index('unmatched'):\n",
    "        print(f\"Predicted: {class_names[class_idx]} with probability {max_prob:.4f}\")\n",
    "    else:\n",
    "        print(\"Not matching any known person\")\n",
    "\n",
    "# Example usage\n",
    "predict_image(\"/Users/mohamednashath/Desktop/projectface/testrandom/riznee2.jpeg\", model)"
   ]
  },
  {
   "cell_type": "code",
   "execution_count": 33,
   "id": "a54bb18d-0316-4e01-850b-dc8548f486ca",
   "metadata": {},
   "outputs": [
    {
     "name": "stderr",
     "output_type": "stream",
     "text": [
      "WARNING:absl:Compiled the loaded model, but the compiled metrics have yet to be built. `model.compile_metrics` will be empty until you train or evaluate the model.\n"
     ]
    },
    {
     "name": "stdout",
     "output_type": "stream",
     "text": [
      "\u001b[1m1/1\u001b[0m \u001b[32m━━━━━━━━━━━━━━━━━━━━\u001b[0m\u001b[37m\u001b[0m \u001b[1m0s\u001b[0m 47ms/step\n",
      "Predicted: riznee with probability 0.9999\n"
     ]
    }
   ],
   "source": [
    "# Load model\n",
    "model = tf.keras.models.load_model(\"face_recognition_cnn.h5\")\n",
    "\n",
    "# Test with an untrained image\n",
    "from tensorflow.keras.preprocessing import image\n",
    "def predict_image(img_path, model, threshold=0.5):\n",
    "    img = image.load_img(img_path, target_size=img_size)\n",
    "    img_array = image.img_to_array(img) / 255.0\n",
    "    img_array = np.expand_dims(img_array, axis=0)\n",
    "    prediction = model.predict(img_array)[0]\n",
    "    max_prob = np.max(prediction)\n",
    "    class_idx = np.argmax(prediction)\n",
    "    class_names = list(train_generator.class_indices.keys())\n",
    "    \n",
    "    if max_prob > threshold and class_idx != class_names.index('unmatched'):\n",
    "        print(f\"Predicted: {class_names[class_idx]} with probability {max_prob:.4f}\")\n",
    "    else:\n",
    "        print(\"Not matching any known person\")\n",
    "\n",
    "# Example usage\n",
    "predict_image(\"/Users/mohamednashath/Desktop/projectface/testrandom/riznee3.jpeg\", model)"
   ]
  },
  {
   "cell_type": "code",
   "execution_count": 35,
   "id": "ab1618cd-856e-40a7-a891-19bfe6ee4646",
   "metadata": {},
   "outputs": [
    {
     "name": "stderr",
     "output_type": "stream",
     "text": [
      "WARNING:absl:Compiled the loaded model, but the compiled metrics have yet to be built. `model.compile_metrics` will be empty until you train or evaluate the model.\n"
     ]
    },
    {
     "name": "stdout",
     "output_type": "stream",
     "text": [
      "\u001b[1m1/1\u001b[0m \u001b[32m━━━━━━━━━━━━━━━━━━━━\u001b[0m\u001b[37m\u001b[0m \u001b[1m0s\u001b[0m 47ms/step\n",
      "Predicted: riznee with probability 0.9999\n"
     ]
    }
   ],
   "source": [
    "# Load model\n",
    "model = tf.keras.models.load_model(\"face_recognition_cnn.h5\")\n",
    "\n",
    "# Test with an untrained image\n",
    "from tensorflow.keras.preprocessing import image\n",
    "def predict_image(img_path, model, threshold=0.5):\n",
    "    img = image.load_img(img_path, target_size=img_size)\n",
    "    img_array = image.img_to_array(img) / 255.0\n",
    "    img_array = np.expand_dims(img_array, axis=0)\n",
    "    prediction = model.predict(img_array)[0]\n",
    "    max_prob = np.max(prediction)\n",
    "    class_idx = np.argmax(prediction)\n",
    "    class_names = list(train_generator.class_indices.keys())\n",
    "    \n",
    "    if max_prob > threshold and class_idx != class_names.index('unmatched'):\n",
    "        print(f\"Predicted: {class_names[class_idx]} with probability {max_prob:.4f}\")\n",
    "    else:\n",
    "        print(\"Not matching any known person\")\n",
    "\n",
    "# Example usage\n",
    "predict_image(\"/Users/mohamednashath/Desktop/projectface/testrandom/riznee3.jpeg\", model)"
   ]
  },
  {
   "cell_type": "code",
   "execution_count": null,
   "id": "b1434f04-0842-4d38-b9f6-eab47de72c2d",
   "metadata": {},
   "outputs": [],
   "source": []
  }
 ],
 "metadata": {
  "kernelspec": {
   "display_name": "Python 3 (ipykernel)",
   "language": "python",
   "name": "python3"
  },
  "language_info": {
   "codemirror_mode": {
    "name": "ipython",
    "version": 3
   },
   "file_extension": ".py",
   "mimetype": "text/x-python",
   "name": "python",
   "nbconvert_exporter": "python",
   "pygments_lexer": "ipython3",
   "version": "3.10.18"
  }
 },
 "nbformat": 4,
 "nbformat_minor": 5
}
